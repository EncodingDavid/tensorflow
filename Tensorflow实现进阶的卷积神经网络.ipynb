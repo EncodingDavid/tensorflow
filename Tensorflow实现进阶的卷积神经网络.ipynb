{
  "nbformat": 4,
  "nbformat_minor": 0,
  "metadata": {
    "colab": {
      "name": "Tensorflow实现进阶的卷积神经网络.ipynb",
      "version": "0.3.2",
      "provenance": [],
      "include_colab_link": true
    },
    "kernelspec": {
      "name": "python3",
      "display_name": "Python 3"
    }
  },
  "cells": [
    {
      "cell_type": "markdown",
      "metadata": {
        "id": "view-in-github",
        "colab_type": "text"
      },
      "source": [
        "<a href=\"https://colab.research.google.com/github/EncodingDavid/tensorflow/blob/master/Tensorflow%E5%AE%9E%E7%8E%B0%E8%BF%9B%E9%98%B6%E7%9A%84%E5%8D%B7%E7%A7%AF%E7%A5%9E%E7%BB%8F%E7%BD%91%E7%BB%9C.ipynb\" target=\"_parent\"><img src=\"https://colab.research.google.com/assets/colab-badge.svg\" alt=\"Open In Colab\"/></a>"
      ]
    },
    {
      "cell_type": "markdown",
      "metadata": {
        "id": "naPQX25FUZlV",
        "colab_type": "text"
      },
      "source": [
        "本节使用的数据集是CIFAR-10，这是一个经典的数据集，包含6000张32x32彩色图片，\n",
        "其中训练集50000张，测试集10000张"
      ]
    },
    {
      "cell_type": "code",
      "metadata": {
        "id": "70Q7Y5rqU9je",
        "colab_type": "code",
        "outputId": "838d4326-e9db-42d5-95a8-03255b4ea87d",
        "colab": {
          "base_uri": "https://localhost:8080/",
          "height": 136
        }
      },
      "source": [
        "!git clone https://github.com/tensorflow/models.git\n",
        "!cd models/tutorials/image/cifar10"
      ],
      "execution_count": 0,
      "outputs": [
        {
          "output_type": "stream",
          "text": [
            "Cloning into 'models'...\n",
            "remote: Enumerating objects: 1, done.\u001b[K\n",
            "remote: Counting objects: 100% (1/1), done.\u001b[K\n",
            "remote: Total 28196 (delta 0), reused 0 (delta 0), pack-reused 28195\u001b[K\n",
            "Receiving objects: 100% (28196/28196), 509.37 MiB | 33.96 MiB/s, done.\n",
            "Resolving deltas: 100% (17358/17358), done.\n",
            "Checking out files: 100% (3004/3004), done.\n"
          ],
          "name": "stdout"
        }
      ]
    },
    {
      "cell_type": "code",
      "metadata": {
        "id": "U1AqrfmZV6fm",
        "colab_type": "code",
        "colab": {}
      },
      "source": [
        "!cd models/tutorials/image/cifar10"
      ],
      "execution_count": 0,
      "outputs": []
    },
    {
      "cell_type": "code",
      "metadata": {
        "id": "X2LefRMJWE6E",
        "colab_type": "code",
        "colab": {}
      },
      "source": [
        "import tensorflow as tf\n",
        "import numpy as np\n",
        "import time"
      ],
      "execution_count": 0,
      "outputs": []
    },
    {
      "cell_type": "code",
      "metadata": {
        "id": "BywzH-K4WIqE",
        "colab_type": "code",
        "colab": {}
      },
      "source": [
        "max_steps = 3000\n",
        "batch_size = 128\n",
        "data_dir = '/tmp/cifar10_data/cifar-10-batches-bin'"
      ],
      "execution_count": 0,
      "outputs": []
    },
    {
      "cell_type": "code",
      "metadata": {
        "id": "3I96fNO6WmQD",
        "colab_type": "code",
        "colab": {}
      },
      "source": [
        "def variable_with_weight_loss(shape,stddev,w1):\n",
        "  var = tf.variable(tf.truncated_normal(shape,stddev=stddev))\n",
        "  if wl is not None:\n",
        "    weight_loss = tf.multiply(tf.nn.l2_loss(var),w1,name='weight_loss')\n",
        "    tf.add_to_collection('losses',weight_loss)\n",
        "  return var"
      ],
      "execution_count": 0,
      "outputs": []
    },
    {
      "cell_type": "code",
      "metadata": {
        "id": "r4LV6ZkfYIQ0",
        "colab_type": "code",
        "colab": {}
      },
      "source": [
        ""
      ],
      "execution_count": 0,
      "outputs": []
    }
  ]
}