{
  "nbformat": 4,
  "nbformat_minor": 0,
  "metadata": {
    "colab": {
      "name": "识别手写字体.ipynb",
      "version": "0.3.2",
      "provenance": [],
      "include_colab_link": true
    },
    "kernelspec": {
      "name": "python3",
      "display_name": "Python 3"
    }
  },
  "cells": [
    {
      "cell_type": "markdown",
      "metadata": {
        "id": "view-in-github",
        "colab_type": "text"
      },
      "source": [
        "<a href=\"https://colab.research.google.com/github/EncodingDavid/tensorflow/blob/master/%E8%AF%86%E5%88%AB%E6%89%8B%E5%86%99%E5%AD%97%E4%BD%93.ipynb\" target=\"_parent\"><img src=\"https://colab.research.google.com/assets/colab-badge.svg\" alt=\"Open In Colab\"/></a>"
      ]
    },
    {
      "cell_type": "markdown",
      "metadata": {
        "id": "Svr0dkvmuJs3",
        "colab_type": "text"
      },
      "source": [
        "# TensorFlow实现Softmax Regression识别手写字体\n",
        "首先对MNIST数据进行加载，Tensorflow为我们提供了一个方便的封装，可以直接加载MNIST数据为我们期望格式"
      ]
    },
    {
      "cell_type": "code",
      "metadata": {
        "id": "PO-2bQjvsWgd",
        "colab_type": "code",
        "colab": {
          "base_uri": "https://localhost:8080/",
          "height": 530
        },
        "outputId": "7e85260f-e625-4d38-8ab5-4e097e066953"
      },
      "source": [
        "from tensorflow.examples.tutorials.mnist import input_data\n",
        "mnist = input_data.read_data_sets(\"MINST_data/\",one_hot = True)"
      ],
      "execution_count": 6,
      "outputs": [
        {
          "output_type": "stream",
          "text": [
            "WARNING:tensorflow:From <ipython-input-6-151746fa0fde>:2: read_data_sets (from tensorflow.contrib.learn.python.learn.datasets.mnist) is deprecated and will be removed in a future version.\n",
            "Instructions for updating:\n",
            "Please use alternatives such as official/mnist/dataset.py from tensorflow/models.\n",
            "WARNING:tensorflow:From /usr/local/lib/python3.6/dist-packages/tensorflow/contrib/learn/python/learn/datasets/mnist.py:260: maybe_download (from tensorflow.contrib.learn.python.learn.datasets.base) is deprecated and will be removed in a future version.\n",
            "Instructions for updating:\n",
            "Please write your own downloading logic.\n",
            "WARNING:tensorflow:From /usr/local/lib/python3.6/dist-packages/tensorflow/contrib/learn/python/learn/datasets/base.py:252: _internal_retry.<locals>.wrap.<locals>.wrapped_fn (from tensorflow.contrib.learn.python.learn.datasets.base) is deprecated and will be removed in a future version.\n",
            "Instructions for updating:\n",
            "Please use urllib or similar directly.\n",
            "Successfully downloaded train-images-idx3-ubyte.gz 9912422 bytes.\n",
            "WARNING:tensorflow:From /usr/local/lib/python3.6/dist-packages/tensorflow/contrib/learn/python/learn/datasets/mnist.py:262: extract_images (from tensorflow.contrib.learn.python.learn.datasets.mnist) is deprecated and will be removed in a future version.\n",
            "Instructions for updating:\n",
            "Please use tf.data to implement this functionality.\n",
            "Extracting MINST_data/train-images-idx3-ubyte.gz\n",
            "Successfully downloaded train-labels-idx1-ubyte.gz 28881 bytes.\n",
            "WARNING:tensorflow:From /usr/local/lib/python3.6/dist-packages/tensorflow/contrib/learn/python/learn/datasets/mnist.py:267: extract_labels (from tensorflow.contrib.learn.python.learn.datasets.mnist) is deprecated and will be removed in a future version.\n",
            "Instructions for updating:\n",
            "Please use tf.data to implement this functionality.\n",
            "Extracting MINST_data/train-labels-idx1-ubyte.gz\n",
            "WARNING:tensorflow:From /usr/local/lib/python3.6/dist-packages/tensorflow/contrib/learn/python/learn/datasets/mnist.py:110: dense_to_one_hot (from tensorflow.contrib.learn.python.learn.datasets.mnist) is deprecated and will be removed in a future version.\n",
            "Instructions for updating:\n",
            "Please use tf.one_hot on tensors.\n",
            "Successfully downloaded t10k-images-idx3-ubyte.gz 1648877 bytes.\n",
            "Extracting MINST_data/t10k-images-idx3-ubyte.gz\n",
            "Successfully downloaded t10k-labels-idx1-ubyte.gz 4542 bytes.\n",
            "Extracting MINST_data/t10k-labels-idx1-ubyte.gz\n",
            "WARNING:tensorflow:From /usr/local/lib/python3.6/dist-packages/tensorflow/contrib/learn/python/learn/datasets/mnist.py:290: DataSet.__init__ (from tensorflow.contrib.learn.python.learn.datasets.mnist) is deprecated and will be removed in a future version.\n",
            "Instructions for updating:\n",
            "Please use alternatives such as official/mnist/dataset.py from tensorflow/models.\n"
          ],
          "name": "stdout"
        }
      ]
    },
    {
      "cell_type": "markdown",
      "metadata": {
        "id": "XnQcbZ9guiO8",
        "colab_type": "text"
      },
      "source": [
        "# 查看MNIST数据集的情况\n",
        "可以看到有55000个样本，测试集有10000个样本，验证集有5000个样本。每一个样本都有它对应的标注信息，即label。我们将在训练集上训练模型，在验证集上检验效果并决定何时完成训练，最后我们在测试集评测模型的效果。"
      ]
    },
    {
      "cell_type": "code",
      "metadata": {
        "id": "WNgV5OGFsr11",
        "colab_type": "code",
        "outputId": "1bb431d1-029f-4350-ac18-febad7ff6ae6",
        "colab": {
          "base_uri": "https://localhost:8080/",
          "height": 34
        }
      },
      "source": [
        "print(mnist.train.images.shape, mnist.train.labels.shape)"
      ],
      "execution_count": 7,
      "outputs": [
        {
          "output_type": "stream",
          "text": [
            "(55000, 784) (55000, 10)\n"
          ],
          "name": "stdout"
        }
      ]
    },
    {
      "cell_type": "code",
      "metadata": {
        "id": "1UXfwWQRtGTB",
        "colab_type": "code",
        "colab": {
          "base_uri": "https://localhost:8080/",
          "height": 34
        },
        "outputId": "1db4b303-6607-417b-9d22-a3b89da812ea"
      },
      "source": [
        "print(mnist.test.images.shape, mnist.test.labels.shape)"
      ],
      "execution_count": 8,
      "outputs": [
        {
          "output_type": "stream",
          "text": [
            "(10000, 784) (10000, 10)\n"
          ],
          "name": "stdout"
        }
      ]
    },
    {
      "cell_type": "code",
      "metadata": {
        "id": "M1nerw2Ot_Am",
        "colab_type": "code",
        "colab": {
          "base_uri": "https://localhost:8080/",
          "height": 34
        },
        "outputId": "f3ec5b4a-4c0d-4c20-f5e1-833d819b6081"
      },
      "source": [
        "print(mnist.validation.images.shape, mnist.validation.labels.shape)"
      ],
      "execution_count": 9,
      "outputs": [
        {
          "output_type": "stream",
          "text": [
            "(5000, 784) (5000, 10)\n"
          ],
          "name": "stdout"
        }
      ]
    },
    {
      "cell_type": "markdown",
      "metadata": {
        "id": "ByBaSGIkvRLe",
        "colab_type": "text"
      },
      "source": [
        "前面我们提到的图像是28✖️28pixel大小的灰度图片，需要将它变成784维的特征，把一张图片变成一维向量"
      ]
    },
    {
      "cell_type": "markdown",
      "metadata": {
        "id": "aQetAGlOx9m_",
        "colab_type": "text"
      },
      "source": [
        "首先引入TensorFlow库，创建一个新的InteractiveSession，使用这个命令会将这个session注册为默认的session，之后的运算也默认run在这个session里，不同session之间的数据和运算应该都是互相独立的。接下来创建一个Placeholder，即输入数据的地方。Placeholder的第一个参数是数据类型，第二个参数是[None,784]代表tensor的shape，也是数据的尺寸，这里None代表不限条数的输入，784代表每条输入是一个784维的向量。"
      ]
    },
    {
      "cell_type": "code",
      "metadata": {
        "id": "dKeortVky33n",
        "colab_type": "code",
        "colab": {
          "base_uri": "https://localhost:8080/",
          "height": 71
        },
        "outputId": "78996d11-9987-4719-fb8a-221d26fac08e"
      },
      "source": [
        "import tensorflow as tf\n",
        "sess = tf.InteractiveSession()\n",
        "x = tf.placeholder(tf.float32,[None,784])"
      ],
      "execution_count": 11,
      "outputs": [
        {
          "output_type": "stream",
          "text": [
            "/usr/local/lib/python3.6/dist-packages/tensorflow/python/client/session.py:1702: UserWarning: An interactive session is already active. This can cause out-of-memory errors in some cases. You must explicitly call `InteractiveSession.close()` to release resources held by the other session(s).\n",
            "  warnings.warn('An interactive session is already active. This can '\n"
          ],
          "name": "stderr"
        }
      ]
    },
    {
      "cell_type": "markdown",
      "metadata": {
        "id": "KqN5t8n-zM4m",
        "colab_type": "text"
      },
      "source": [
        "# 创建Variable对象\n",
        "10代表10类，我们的数字是0-9之间的，所以有10类\n",
        "- 使用`Softmax Regression`模型中的weights和biases创建Variable对象\n",
        "- Variable在模型训练迭代中是持久化的\n",
        "- 将weights和biases中初始化为0（对于复杂的卷积网络很重要）"
      ]
    },
    {
      "cell_type": "code",
      "metadata": {
        "id": "xRGDp9iNzHwk",
        "colab_type": "code",
        "colab": {}
      },
      "source": [
        "W = tf.Variable(tf.zeros([784,10]))\n",
        "b = tf.Variable(tf.zeros([10]))"
      ],
      "execution_count": 0,
      "outputs": []
    },
    {
      "cell_type": "markdown",
      "metadata": {
        "id": "3y4XoeJI0mDI",
        "colab_type": "text"
      },
      "source": [
        "** 利用公式$y = softmax(Wx+b)$ **"
      ]
    },
    {
      "cell_type": "code",
      "metadata": {
        "id": "-w9S0i4qzr6I",
        "colab_type": "code",
        "colab": {}
      },
      "source": [
        "y = tf.nn.softmax(tf.matmul(x,W)+b)"
      ],
      "execution_count": 0,
      "outputs": []
    },
    {
      "cell_type": "markdown",
      "metadata": {
        "id": "tVXXVeD61lAy",
        "colab_type": "text"
      },
      "source": [
        "为了训练模型，我们需要定义一个`loss function`来描述模型对问题的分类精度。loss越小，模型的分类结果与真实值的偏差越小，也就是模型越精确"
      ]
    },
    {
      "cell_type": "code",
      "metadata": {
        "id": "xeAD-5zx0dlZ",
        "colab_type": "code",
        "colab": {}
      },
      "source": [
        "# 定义cross-entropy\n",
        "# 先定义一个placeholder，输入是真实的label，用来计算cross-entropy。\n",
        "y_ = tf.placeholder(tf.float32,[None,10])\n",
        "cross_entropy = tf.reduce_mean(-tf.reduce_sum(y_ * tf.log(y),reduction_indices=[1]))"
      ],
      "execution_count": 0,
      "outputs": []
    },
    {
      "cell_type": "markdown",
      "metadata": {
        "id": "wOQKpCpQ2ghL",
        "colab_type": "text"
      },
      "source": [
        "只需再定义一个常见的随机梯度下降SGD。定义完了即可自动求导，并根据反向传播算法进行训练，在每一轮迭代时更新参数来减少loss。在后台，TensorFlow会自动添加许多运算操作来实现刚才提到的反向传播和梯度下降，而给我们提供的是一个封装好的优化器。"
      ]
    },
    {
      "cell_type": "code",
      "metadata": {
        "id": "AtVuYCc51NHc",
        "colab_type": "code",
        "colab": {
          "base_uri": "https://localhost:8080/",
          "height": 88
        },
        "outputId": "d1bc93fb-a34b-4157-de30-f7ecfcb90d4d"
      },
      "source": [
        "# 直接调用tf.train.GradientDescentOptimizer,设置学习速率为0.5，优化目标设定为cross-entropy得到进行训练的操作train_step\n",
        "train_step = tf.train.GradientDescentOptimizer(0.5).minimize(cross_entropy)"
      ],
      "execution_count": 21,
      "outputs": [
        {
          "output_type": "stream",
          "text": [
            "WARNING:tensorflow:From /usr/local/lib/python3.6/dist-packages/tensorflow/python/ops/math_ops.py:3066: to_int32 (from tensorflow.python.ops.math_ops) is deprecated and will be removed in a future version.\n",
            "Instructions for updating:\n",
            "Use tf.cast instead.\n"
          ],
          "name": "stdout"
        }
      ]
    },
    {
      "cell_type": "code",
      "metadata": {
        "id": "je9y7jHf3e4E",
        "colab_type": "code",
        "colab": {}
      },
      "source": [
        "# 使用全局参数优化器tf.global_variables_initializer\n",
        "tf.global_variables_initializer().run()"
      ],
      "execution_count": 0,
      "outputs": []
    },
    {
      "cell_type": "code",
      "metadata": {
        "id": "PsGBmca73zpP",
        "colab_type": "code",
        "colab": {}
      },
      "source": [
        "# 最后一步，执行训练操作train_step。使用小样本进行训练称为随机梯度下降，与每次使用全部样本的传统的梯度下降对应。\n",
        "for i in range(1000):\n",
        "  batch_xs, batch_ys = mnist.train.next_batch(100)\n",
        "  train_step.run({x: batch_xs, y_: batch_ys})"
      ],
      "execution_count": 0,
      "outputs": []
    },
    {
      "cell_type": "code",
      "metadata": {
        "id": "hRUZLZPW4NqQ",
        "colab_type": "code",
        "colab": {}
      },
      "source": [
        "# 对模型的准确度进行验证\n",
        "correct_prediction = tf.equal(tf.argmax(y,1),tf.argmax(y_,1))"
      ],
      "execution_count": 0,
      "outputs": []
    },
    {
      "cell_type": "code",
      "metadata": {
        "id": "0DWA1YLp40uv",
        "colab_type": "code",
        "colab": {}
      },
      "source": [
        "# 统计全部样本预测的accuracy，这里需要先用tf.cast将之前correct_prediction输出的bool值转换为float32，再求平均\n",
        "accuracy = tf.reduce_mean(tf.cast(correct_prediction,tf.float32))"
      ],
      "execution_count": 0,
      "outputs": []
    },
    {
      "cell_type": "code",
      "metadata": {
        "id": "Ob3FesXy43iK",
        "colab_type": "code",
        "colab": {
          "base_uri": "https://localhost:8080/",
          "height": 34
        },
        "outputId": "3b405127-7171-4a9c-8efb-01f50066e450"
      },
      "source": [
        "# 对MNIST数据进行分类识别，在测试集上平均准确率可达92%左右\n",
        "print(accuracy.eval({x: mnist.test.images, y_: mnist.test.labels}))"
      ],
      "execution_count": 34,
      "outputs": [
        {
          "output_type": "stream",
          "text": [
            "0.9193\n"
          ],
          "name": "stdout"
        }
      ]
    },
    {
      "cell_type": "markdown",
      "metadata": {
        "id": "Pw_O7ljy6L2g",
        "colab_type": "text"
      },
      "source": [
        "# 总结\n",
        "通过上面的简单例子，我们使用TensorFlow实现来一个简单的机器学习算法Softmax Regression，这可以算作一个没有隐含层的最浅的神经网络。简单来说，步骤有4部分。\n",
        "- 定义算法公式，也就是神经网络forward时的计算。\n",
        "- 定义loss，选定优化器，并指定优化器优化loss\n",
        "- 迭代地对数据进行训练\n",
        "- 在测试集或验证集上对准确率进行评测\n",
        "\n",
        "这四个是TensorFlow进行算法设计、训练的核心步骤。\n",
        "\n",
        "虽然准确率达到92%，但远远不能达到实用的程度。手写数字的主要应用场景是识别银行支票，如果准确率不够，可能会有大麻烦。后面需要用到多层感知机和卷积神经网络来进一步地提高准确率。"
      ]
    }
  ]
}