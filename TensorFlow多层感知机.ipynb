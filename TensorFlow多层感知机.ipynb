{
  "nbformat": 4,
  "nbformat_minor": 0,
  "metadata": {
    "colab": {
      "name": "TensorFlow多层感知机.ipynb",
      "version": "0.3.2",
      "provenance": [],
      "include_colab_link": true
    },
    "language_info": {
      "codemirror_mode": {
        "name": "ipython",
        "version": 3
      },
      "file_extension": ".py",
      "mimetype": "text/x-python",
      "name": "python",
      "nbconvert_exporter": "python",
      "pygments_lexer": "ipython3",
      "version": "3.7.3"
    },
    "kernelspec": {
      "display_name": "Python 3",
      "language": "python",
      "name": "python3"
    }
  },
  "cells": [
    {
      "cell_type": "markdown",
      "metadata": {
        "id": "view-in-github",
        "colab_type": "text"
      },
      "source": [
        "<a href=\"https://colab.research.google.com/github/EncodingDavid/tensorflow/blob/master/TensorFlow%E5%A4%9A%E5%B1%82%E6%84%9F%E7%9F%A5%E6%9C%BA.ipynb\" target=\"_parent\"><img src=\"https://colab.research.google.com/assets/colab-badge.svg\" alt=\"Open In Colab\"/></a>"
      ]
    },
    {
      "cell_type": "code",
      "metadata": {
        "id": "u2Ma8t1LpIwu",
        "colab_type": "code",
        "colab": {},
        "outputId": "974f9b69-715b-43ee-f1bf-c22edd61a2f4"
      },
      "source": [
        "!pip install tensorflow\n"
      ],
      "execution_count": 0,
      "outputs": [
        {
          "output_type": "stream",
          "text": [
            "Collecting tensorflow\n",
            "\u001b[?25l  Downloading https://files.pythonhosted.org/packages/d5/1c/3ac472009a5c54ae7ec5a3294520ca36d1908cd1e5cf3e3fd923f9b7b31f/tensorflow-1.13.1-cp37-cp37m-macosx_10_11_x86_64.whl (73.6MB)\n",
            "\u001b[K    100% |████████████████████████████████| 73.6MB 143kB/s \n",
            "\u001b[?25hRequirement already satisfied: numpy>=1.13.3 in /Users/david/anaconda3/lib/python3.7/site-packages (from tensorflow) (1.16.2)\n",
            "Collecting grpcio>=1.8.6 (from tensorflow)\n",
            "\u001b[?25l  Downloading https://files.pythonhosted.org/packages/c1/82/60d5ec84dd2ed474aced1a1fd3cff932306c359ce97b2bb3ff5bc750d0d9/grpcio-1.20.1-cp37-cp37m-macosx_10_9_x86_64.whl (2.0MB)\n",
            "\u001b[K    100% |████████████████████████████████| 2.0MB 276kB/s \n",
            "\u001b[?25hRequirement already satisfied: wheel>=0.26 in /Users/david/anaconda3/lib/python3.7/site-packages (from tensorflow) (0.33.1)\n",
            "Collecting gast>=0.2.0 (from tensorflow)\n",
            "  Downloading https://files.pythonhosted.org/packages/4e/35/11749bf99b2d4e3cceb4d55ca22590b0d7c2c62b9de38ac4a4a7f4687421/gast-0.2.2.tar.gz\n",
            "Collecting absl-py>=0.1.6 (from tensorflow)\n",
            "\u001b[?25l  Downloading https://files.pythonhosted.org/packages/da/3f/9b0355080b81b15ba6a9ffcf1f5ea39e307a2778b2f2dc8694724e8abd5b/absl-py-0.7.1.tar.gz (99kB)\n",
            "\u001b[K    100% |████████████████████████████████| 102kB 206kB/s \n",
            "\u001b[?25hCollecting keras-preprocessing>=1.0.5 (from tensorflow)\n",
            "\u001b[?25l  Downloading https://files.pythonhosted.org/packages/c0/bf/0315ef6a9fd3fc2346e85b0ff1f5f83ca17073f2c31ac719ab2e4da0d4a3/Keras_Preprocessing-1.0.9-py2.py3-none-any.whl (59kB)\n",
            "\u001b[K    100% |████████████████████████████████| 61kB 220kB/s \n",
            "\u001b[?25hCollecting astor>=0.6.0 (from tensorflow)\n",
            "  Downloading https://files.pythonhosted.org/packages/35/6b/11530768cac581a12952a2aad00e1526b89d242d0b9f59534ef6e6a1752f/astor-0.7.1-py2.py3-none-any.whl\n",
            "Collecting termcolor>=1.1.0 (from tensorflow)\n",
            "  Downloading https://files.pythonhosted.org/packages/8a/48/a76be51647d0eb9f10e2a4511bf3ffb8cc1e6b14e9e4fab46173aa79f981/termcolor-1.1.0.tar.gz\n",
            "Collecting protobuf>=3.6.1 (from tensorflow)\n",
            "\u001b[?25l  Downloading https://files.pythonhosted.org/packages/d7/08/a316e74d41a1f3d606dfc3b71cc068354e8b9a0232f46bc098aa50b37116/protobuf-3.7.1-cp37-cp37m-macosx_10_9_intel.macosx_10_9_x86_64.macosx_10_10_intel.macosx_10_10_x86_64.whl (1.3MB)\n",
            "\u001b[K    100% |████████████████████████████████| 1.3MB 342kB/s \n",
            "\u001b[?25hCollecting tensorboard<1.14.0,>=1.13.0 (from tensorflow)\n",
            "\u001b[?25l  Downloading https://files.pythonhosted.org/packages/0f/39/bdd75b08a6fba41f098b6cb091b9e8c7a80e1b4d679a581a0ccd17b10373/tensorboard-1.13.1-py3-none-any.whl (3.2MB)\n",
            "\u001b[K    100% |████████████████████████████████| 3.2MB 145kB/s \n",
            "\u001b[?25hCollecting tensorflow-estimator<1.14.0rc0,>=1.13.0 (from tensorflow)\n",
            "\u001b[?25l  Downloading https://files.pythonhosted.org/packages/bb/48/13f49fc3fa0fdf916aa1419013bb8f2ad09674c275b4046d5ee669a46873/tensorflow_estimator-1.13.0-py2.py3-none-any.whl (367kB)\n",
            "\u001b[K    100% |████████████████████████████████| 368kB 194kB/s \n",
            "\u001b[?25hRequirement already satisfied: six>=1.10.0 in /Users/david/anaconda3/lib/python3.7/site-packages (from tensorflow) (1.12.0)\n",
            "Collecting keras-applications>=1.0.6 (from tensorflow)\n",
            "\u001b[?25l  Downloading https://files.pythonhosted.org/packages/90/85/64c82949765cfb246bbdaf5aca2d55f400f792655927a017710a78445def/Keras_Applications-1.0.7-py2.py3-none-any.whl (51kB)\n",
            "\u001b[K    100% |████████████████████████████████| 61kB 183kB/s \n",
            "\u001b[?25hRequirement already satisfied: setuptools in /Users/david/anaconda3/lib/python3.7/site-packages (from protobuf>=3.6.1->tensorflow) (40.8.0)\n",
            "Requirement already satisfied: werkzeug>=0.11.15 in /Users/david/anaconda3/lib/python3.7/site-packages (from tensorboard<1.14.0,>=1.13.0->tensorflow) (0.14.1)\n",
            "Collecting markdown>=2.6.8 (from tensorboard<1.14.0,>=1.13.0->tensorflow)\n",
            "\u001b[?25l  Downloading https://files.pythonhosted.org/packages/f5/e4/d8c18f2555add57ff21bf25af36d827145896a07607486cc79a2aea641af/Markdown-3.1-py2.py3-none-any.whl (87kB)\n",
            "\u001b[K    100% |████████████████████████████████| 92kB 209kB/s \n",
            "\u001b[?25hCollecting mock>=2.0.0 (from tensorflow-estimator<1.14.0rc0,>=1.13.0->tensorflow)\n",
            "  Downloading https://files.pythonhosted.org/packages/05/d2/f94e68be6b17f46d2c353564da56e6fb89ef09faeeff3313a046cb810ca9/mock-3.0.5-py2.py3-none-any.whl\n",
            "Requirement already satisfied: h5py in /Users/david/anaconda3/lib/python3.7/site-packages (from keras-applications>=1.0.6->tensorflow) (2.9.0)\n",
            "Building wheels for collected packages: gast, absl-py, termcolor\n",
            "  Building wheel for gast (setup.py) ... \u001b[?25ldone\n",
            "\u001b[?25h  Stored in directory: /Users/david/Library/Caches/pip/wheels/5c/2e/7e/a1d4d4fcebe6c381f378ce7743a3ced3699feb89bcfbdadadd\n",
            "  Building wheel for absl-py (setup.py) ... \u001b[?25ldone\n",
            "\u001b[?25h  Stored in directory: /Users/david/Library/Caches/pip/wheels/ee/98/38/46cbcc5a93cfea5492d19c38562691ddb23b940176c14f7b48\n",
            "  Building wheel for termcolor (setup.py) ... \u001b[?25ldone\n",
            "\u001b[?25h  Stored in directory: /Users/david/Library/Caches/pip/wheels/7c/06/54/bc84598ba1daf8f970247f550b175aaaee85f68b4b0c5ab2c6\n",
            "Successfully built gast absl-py termcolor\n",
            "Installing collected packages: grpcio, gast, absl-py, keras-preprocessing, astor, termcolor, protobuf, markdown, tensorboard, mock, tensorflow-estimator, keras-applications, tensorflow\n",
            "Successfully installed absl-py-0.7.1 astor-0.7.1 gast-0.2.2 grpcio-1.20.1 keras-applications-1.0.7 keras-preprocessing-1.0.9 markdown-3.1 mock-3.0.5 protobuf-3.7.1 tensorboard-1.13.1 tensorflow-1.13.1 tensorflow-estimator-1.13.0 termcolor-1.1.0\n"
          ],
          "name": "stdout"
        }
      ]
    },
    {
      "cell_type": "code",
      "metadata": {
        "id": "XkglYQarpIwz",
        "colab_type": "code",
        "colab": {}
      },
      "source": [
        "from tensorflow.examples.tutorials.mnist import input_data\n",
        "import tensorflow as tf"
      ],
      "execution_count": 0,
      "outputs": []
    },
    {
      "cell_type": "code",
      "metadata": {
        "id": "ftmVwD89pIw2",
        "colab_type": "code",
        "colab": {},
        "outputId": "bf687b99-0e19-444f-99dc-56f2039ec3a5"
      },
      "source": [
        "mnist = input_data.read_data_sets(\"MNIST_data/\",one_hot=True)"
      ],
      "execution_count": 0,
      "outputs": [
        {
          "output_type": "stream",
          "text": [
            "Extracting MNIST_data/train-images-idx3-ubyte.gz\n",
            "Successfully downloaded train-labels-idx1-ubyte.gz 28881 bytes.\n",
            "WARNING:tensorflow:From /Users/david/anaconda3/lib/python3.7/site-packages/tensorflow/contrib/learn/python/learn/datasets/mnist.py:267: extract_labels (from tensorflow.contrib.learn.python.learn.datasets.mnist) is deprecated and will be removed in a future version.\n",
            "Instructions for updating:\n",
            "Please use tf.data to implement this functionality.\n",
            "Extracting MNIST_data/train-labels-idx1-ubyte.gz\n",
            "WARNING:tensorflow:From /Users/david/anaconda3/lib/python3.7/site-packages/tensorflow/contrib/learn/python/learn/datasets/mnist.py:110: dense_to_one_hot (from tensorflow.contrib.learn.python.learn.datasets.mnist) is deprecated and will be removed in a future version.\n",
            "Instructions for updating:\n",
            "Please use tf.one_hot on tensors.\n",
            "Successfully downloaded t10k-images-idx3-ubyte.gz 1648877 bytes.\n",
            "Extracting MNIST_data/t10k-images-idx3-ubyte.gz\n",
            "Successfully downloaded t10k-labels-idx1-ubyte.gz 4542 bytes.\n",
            "Extracting MNIST_data/t10k-labels-idx1-ubyte.gz\n",
            "WARNING:tensorflow:From /Users/david/anaconda3/lib/python3.7/site-packages/tensorflow/contrib/learn/python/learn/datasets/mnist.py:290: DataSet.__init__ (from tensorflow.contrib.learn.python.learn.datasets.mnist) is deprecated and will be removed in a future version.\n",
            "Instructions for updating:\n",
            "Please use alternatives such as official/mnist/dataset.py from tensorflow/models.\n"
          ],
          "name": "stdout"
        }
      ]
    },
    {
      "cell_type": "code",
      "metadata": {
        "id": "EImp4xuopIw5",
        "colab_type": "code",
        "colab": {},
        "outputId": "7232ebbf-4c38-4a19-b313-a34e0e215384"
      },
      "source": [
        "sess = tf.InteractiveSession()"
      ],
      "execution_count": 0,
      "outputs": [
        {
          "output_type": "stream",
          "text": [
            "/Users/david/anaconda3/lib/python3.7/site-packages/tensorflow/python/client/session.py:1702: UserWarning: An interactive session is already active. This can cause out-of-memory errors in some cases. You must explicitly call `InteractiveSession.close()` to release resources held by the other session(s).\n",
            "  warnings.warn('An interactive session is already active. This can '\n"
          ],
          "name": "stderr"
        }
      ]
    },
    {
      "cell_type": "markdown",
      "metadata": {
        "id": "K0tTFvWipIw8",
        "colab_type": "text"
      },
      "source": [
        "## 设置Variable并初始化\n",
        "因为使用的激活函数是ReLU，所以需要使用正态分布给参数加一点噪声，来打破完全对称并且避免0梯度。"
      ]
    },
    {
      "cell_type": "code",
      "metadata": {
        "id": "g12ZjRkTpIw9",
        "colab_type": "code",
        "colab": {}
      },
      "source": [
        "in_units = 784\n",
        "h1_units = 300\n",
        "W1 = tf.Variable(tf.truncated_normal([in_units,h1_units],stddev = 0.1))\n",
        "b1 = tf.Variable(tf.zeros([h1_units]))\n",
        "W2 = tf.Variable(tf.zeros([h1_units,10]))\n",
        "b2 = tf.Variable(tf.zeros([10]))"
      ],
      "execution_count": 0,
      "outputs": []
    },
    {
      "cell_type": "markdown",
      "metadata": {
        "id": "9SedcFH2pIw_",
        "colab_type": "text"
      },
      "source": [
        "## 定义输入x的placeholder\n",
        "因为在训练和预测，Dropout的比率keep_prob是不一样的，通常在训练是小于1，而在预测时等于1，所以也把Dropout的比率作为计算图的输入，并定义成一个placeholder"
      ]
    },
    {
      "cell_type": "code",
      "metadata": {
        "id": "v7Txrje7pIxB",
        "colab_type": "code",
        "colab": {}
      },
      "source": [
        "x = tf.placeholder(tf.float32,[None,in_units])\n",
        "keep_prob = tf.placeholder(tf.float32)"
      ],
      "execution_count": 0,
      "outputs": []
    },
    {
      "cell_type": "markdown",
      "metadata": {
        "id": "AKwOQBcGpIxD",
        "colab_type": "text"
      },
      "source": [
        "## 定义模型结构\n",
        "首先需要一个隐层，命名为hidden1，可以通过$tf.nn.relu(tf.matmul(x,W_1)+b_1)$实现一个激活函数为ReLU的隐层，计算公式为$$y=relu(W_1x+b_1)$$\n",
        "这里的keep_prob参数即为保留数据而不设置为0的比例，在训练时应该是小于1的，用以制造随机性，防止过拟合；在预测时应该等于1，即使用全部特征来预测样本的类别。最后是输出层，也就是第3章介绍的Softmax，这一行代码的功能和之前的是一致的。"
      ]
    },
    {
      "cell_type": "code",
      "metadata": {
        "id": "5XMlKqY0pIxE",
        "colab_type": "code",
        "colab": {}
      },
      "source": [
        "hidden1 = tf.nn.relu(tf.matmul(x,W1)+b1)\n",
        "hidden1_drop = tf.nn.dropout(hidden1, keep_prob)\n"
      ],
      "execution_count": 0,
      "outputs": []
    },
    {
      "cell_type": "code",
      "metadata": {
        "id": "MVUf6k78pIxF",
        "colab_type": "code",
        "colab": {}
      },
      "source": [
        "y = tf.nn.softmax(tf.matmul(hidden1_drop,W2)+b2)"
      ],
      "execution_count": 0,
      "outputs": []
    },
    {
      "cell_type": "markdown",
      "metadata": {
        "id": "tmGxLe6gpIxI",
        "colab_type": "text"
      },
      "source": [
        "## 定义损失函数和选择优化器来优化loss "
      ]
    },
    {
      "cell_type": "code",
      "metadata": {
        "id": "9ZEwOjGQpIxI",
        "colab_type": "code",
        "colab": {}
      },
      "source": [
        "y_ = tf.placeholder(tf.float32, [None, 10])\n",
        "cross_entropy = tf.reduce_mean(-tf.reduce_sum(y_ * tf.log(y),reduction_indices = [1]))\n"
      ],
      "execution_count": 0,
      "outputs": []
    },
    {
      "cell_type": "code",
      "metadata": {
        "id": "G5AvQ3jFpIxL",
        "colab_type": "code",
        "colab": {},
        "outputId": "b6325f2a-d30a-47d0-bba8-424bac1928d3"
      },
      "source": [
        "train_step = tf.train.AdagradOptimizer(0.3).minimize(cross_entropy)"
      ],
      "execution_count": 0,
      "outputs": [
        {
          "output_type": "stream",
          "text": [
            "WARNING:tensorflow:From /Users/david/anaconda3/lib/python3.7/site-packages/tensorflow/python/ops/math_ops.py:3066: to_int32 (from tensorflow.python.ops.math_ops) is deprecated and will be removed in a future version.\n",
            "Instructions for updating:\n",
            "Use tf.cast instead.\n"
          ],
          "name": "stdout"
        }
      ]
    },
    {
      "cell_type": "markdown",
      "metadata": {
        "id": "Sc4abO_fpIxN",
        "colab_type": "text"
      },
      "source": [
        "## 训练步骤\n",
        "- 加入了keep_prob作为计算图的输入\n",
        "- 在训练时设置0.75，其余25%为0，一般来说，对越复杂越大规模的神经网络，Dropout的效果更显著\n",
        "- 因为加入了隐层，我们需要更多的训练迭代来优化模型以达到一个比较好的效果\n",
        "- 所以一共采用来3000个batch，每个batch包含100条样本，一共30万样本\n"
      ]
    },
    {
      "cell_type": "code",
      "metadata": {
        "id": "17gIVVnZpIxN",
        "colab_type": "code",
        "colab": {}
      },
      "source": [
        "tf.global_variables_initializer().run()\n",
        "for i in range(3000):\n",
        "    batch_xs, batch_ys = mnist.train.next_batch(100)\n",
        "    train_step.run({x: batch_xs, y_: batch_ys, keep_prob: 0.75})"
      ],
      "execution_count": 0,
      "outputs": []
    },
    {
      "cell_type": "markdown",
      "metadata": {
        "id": "52rGCQ51pIxQ",
        "colab_type": "text"
      },
      "source": [
        "## 对模型准确率进行评估\n",
        "直接令keep_prob=1，可以达到较好的预测效果"
      ]
    },
    {
      "cell_type": "code",
      "metadata": {
        "id": "3SvqTpXRpIxQ",
        "colab_type": "code",
        "colab": {},
        "outputId": "74ffc49b-e872-46b3-de32-87c4eb3cf519"
      },
      "source": [
        "correct_prediction = tf.equal(tf.argmax(y,1),tf.argmax(y_,1))\n",
        "accuracy = tf.reduce_mean(tf.cast(correct_prediction, tf.float32))\n",
        "print(accuracy.eval({x: mnist.test.images,y_: mnist.test.labels,keep_prob: 1.0}))"
      ],
      "execution_count": 0,
      "outputs": [
        {
          "output_type": "stream",
          "text": [
            "0.9796\n"
          ],
          "name": "stdout"
        }
      ]
    },
    {
      "cell_type": "markdown",
      "metadata": {
        "id": "KS9qNe3FpIxT",
        "colab_type": "text"
      },
      "source": [
        "## 总结\n",
        "相比之前的Softmax，误差由8%下降到2%，准确率可以说是飞跃性提升。而这个提升仅仅是加入了一个隐层实现，可见多层神经网络的效果有多显著。\n",
        "当然，我们也加入了Dropout,Adagrad,ReLU等，但决定性的还是隐层，它能对特征进行抽象和转化。\n",
        "\n",
        "新加入了一个隐层，并使用了Dropout、Adagrad和ReLU，而代码没有增加很多，非常简洁\n",
        "\n",
        "不过，使用全连接神经网络也是有局限性的，即使我们使用很深的网络，很多的隐藏节点，很大的迭代次数，也很难在MNIST数据集上获得99%以上的准确率，这雨要用到卷积神经网络"
      ]
    },
    {
      "cell_type": "code",
      "metadata": {
        "id": "OweSUqHEpIxU",
        "colab_type": "code",
        "colab": {}
      },
      "source": [
        ""
      ],
      "execution_count": 0,
      "outputs": []
    }
  ]
}